{
 "cells": [
  {
   "cell_type": "code",
   "execution_count": 7,
   "metadata": {},
   "outputs": [],
   "source": [
    "import copy\n",
    "from matplotlib import pyplot as plt\n",
    "from matplotlib import animation"
   ]
  },
  {
   "cell_type": "code",
   "execution_count": 121,
   "metadata": {},
   "outputs": [],
   "source": [
    "training_set = [[(1, 2), 1], [(2, 3), 1], [(3, 1), -1], [(4, 2), -1]]  # 训练数据集\n",
    "w = [0, 0]  # 参数初始化\n",
    "b = 0\n",
    "history = []  # 用来记录每次更新过后的w,b"
   ]
  },
  {
   "cell_type": "code",
   "execution_count": 122,
   "metadata": {},
   "outputs": [],
   "source": [
    "def update(item):\n",
    "    global w, b, history\n",
    "    y_hat = cal(item)\n",
    "    y_dir = item[1] - y_hat\n",
    "    w[0] += 0.1 * y_dir * item[0][0]\n",
    "    w[1] += 0.1 * y_dir * item[0][1]\n",
    "    b += 1 * item[1]\n",
    "    history.append([copy.copy(w), b])\n",
    "    \n"
   ]
  },
  {
   "cell_type": "code",
   "execution_count": 123,
   "metadata": {},
   "outputs": [],
   "source": [
    "def cal(item):\n",
    "    global w, b, history\n",
    "    res = 0\n",
    "    for i in range(len(item[0])):\n",
    "        res += item[0][i] * w[i]\n",
    "    res += b\n",
    "    return res;\n",
    "\n",
    "def isWrong(item):\n",
    "    global w, b, history\n",
    "    res = 0\n",
    "    for i in range(len(item[0])):\n",
    "        res += item[0][i] * w[i]\n",
    "    res += b\n",
    "    res *= item[1]\n",
    "    return (res <= 0);\n",
    "    "
   ]
  },
  {
   "cell_type": "code",
   "execution_count": 124,
   "metadata": {},
   "outputs": [
    {
     "name": "stdout",
     "output_type": "stream",
     "text": [
      "最终结果 w:[-0.475, 0.30000000000000004],b: 1\n",
      "最终结果 w:[-0.475, 0.30000000000000004],b: 1\n"
     ]
    }
   ],
   "source": [
    "def train():\n",
    "    global w, b, history, training_set\n",
    "    flag = False\n",
    "    for item in training_set:\n",
    "        if isWrong(item):\n",
    "            flag = True\n",
    "            update(item)\n",
    "    if not flag:\n",
    "        print(\"最终结果 w:\" + str(w) + \",b: \" + str(b))\n",
    "    return flag\n",
    "\n",
    "epoch = 100\n",
    "for i in range(epoch):\n",
    "    if not train():\n",
    "        break\n",
    "print(\"最终结果 w:\" + str(w) + \",b: \" + str(b))\n"
   ]
  },
  {
   "cell_type": "code",
   "execution_count": null,
   "metadata": {},
   "outputs": [],
   "source": []
  },
  {
   "cell_type": "code",
   "execution_count": null,
   "metadata": {},
   "outputs": [],
   "source": []
  }
 ],
 "metadata": {
  "kernelspec": {
   "display_name": "Python 3",
   "language": "python",
   "name": "python3"
  },
  "language_info": {
   "codemirror_mode": {
    "name": "ipython",
    "version": 3
   },
   "file_extension": ".py",
   "mimetype": "text/x-python",
   "name": "python",
   "nbconvert_exporter": "python",
   "pygments_lexer": "ipython3",
   "version": "3.7.3"
  }
 },
 "nbformat": 4,
 "nbformat_minor": 2
}
